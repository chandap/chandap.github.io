{
 "cells": [
  {
   "cell_type": "code",
   "execution_count": 69,
   "metadata": {
    "collapsed": false
   },
   "outputs": [
    {
     "name": "stdout",
     "output_type": "stream",
     "text": [
      "----graph------\n",
      "1 -> ['2', '3', '4']\n",
      "6 -> ['3', '4']\n",
      "3 -> ['1', '5', '6']\n",
      "5 -> ['4', '3']\n",
      "4 -> ['1', '5', '6']\n",
      "2 -> ['1']\n",
      "\n",
      "\n",
      "Bipartite\n"
     ]
    }
   ],
   "source": [
    "import numpy as np\n",
    "import io\n",
    "\n",
    "''' input_graph.txt\n",
    "\n",
    "1,2,3,4\n",
    "5,4,3\n",
    "6,3,4\n",
    "\n",
    "'''\n",
    "\n",
    "class Node(object):\n",
    "    def __init__(self,id,neigh=None):\n",
    "        self.id = id\n",
    "        self.neighbors = neigh\n",
    "        self.color = None\n",
    "\n",
    "def update_graph(node_id,neighbors):\n",
    "    if node_id not in graph:\n",
    "        node = Node(node_id,neighbors)\n",
    "        graph[node_id] = node        \n",
    "    else:\n",
    "        node = graph[node_id]\n",
    "        node.neighbors += neighbors\n",
    "        \n",
    "        \n",
    "def build_graph(fname):\n",
    "    with open(fname,'r') as fin:\n",
    "        for line in fin:\n",
    "            x = line.strip().split(',')\n",
    "            neighbors = list(x[1:])\n",
    "            node_id = x[0]\n",
    "            update_graph(node_id,neighbors)\n",
    "            for ne in neighbors:\n",
    "                update_graph(ne,[node_id])\n",
    "\n",
    "def print_graph():\n",
    "    print('----graph------')\n",
    "    for key,value in graph.items():\n",
    "        print(key,'->',graph[key].neighbors)\n",
    "    print('\\n')\n",
    "    \n",
    "graph = {}\n",
    "\n",
    "# simple depth first traversal of the graph\n",
    "def DFS(source,neighbor_color):\n",
    "    if source.color is None:\n",
    "        #assign opposite of neighbor color to the source\n",
    "        source.color = ('RED' if neighbor_color is 'BLUE' else 'BLUE') \n",
    "        neighbors = graph[source.id].neighbors\n",
    "        # call DFS for each of its neighbors\n",
    "        for ne in neighbors:\n",
    "            node_ne = graph[ne]\n",
    "            ret = DFS(node_ne,source.color)\n",
    "            if ret is False: return False\n",
    "        return True    \n",
    "    else: \n",
    "        # source already visited and colored. \n",
    "        # If the neighbor color is same as this nodes color, \n",
    "        # they belong to same partition and have an edge, so not bipartite.        \n",
    "        return (False if source.color==neighbor_color else True)\n",
    "    \n",
    "\n",
    "if __name__ == '__main__':\n",
    "    build_graph('input_graph.txt')\n",
    "    print_graph()\n",
    "    print('Bipartite' if DFS(graph['1'],'RED') else 'Not Bipartite')"
   ]
  },
  {
   "cell_type": "code",
   "execution_count": null,
   "metadata": {
    "collapsed": true
   },
   "outputs": [],
   "source": []
  }
 ],
 "metadata": {
  "kernelspec": {
   "display_name": "Python [Root]",
   "language": "python",
   "name": "Python [Root]"
  },
  "language_info": {
   "codemirror_mode": {
    "name": "ipython",
    "version": 3
   },
   "file_extension": ".py",
   "mimetype": "text/x-python",
   "name": "python",
   "nbconvert_exporter": "python",
   "pygments_lexer": "ipython3",
   "version": "3.5.2"
  }
 },
 "nbformat": 4,
 "nbformat_minor": 0
}
